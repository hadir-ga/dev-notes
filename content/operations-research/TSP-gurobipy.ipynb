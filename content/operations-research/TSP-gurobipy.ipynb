{
 "cells": [
  {
   "cell_type": "raw",
   "metadata": {},
   "source": [
    "---\n",
    "title: \"An MIP model for the TSP with gurobipy\"\n",
    "author: \"Hadir Garcia-Castro\"\n",
    "date: 2018-10-22T16:32:58.713\n",
    "description: \"Math formulation and algorithms to solve the TSP.\"\n",
    "type: technical_note\n",
    "draft: false\n",
    "---"
   ]
  },
  {
   "cell_type": "markdown",
   "metadata": {},
   "source": [
    "# An MIP model for the TSP with gurobipy\n",
    "This is the model for the TSP wrote in Python and using the Gurobi solver.\n",
    "The model builds the optimal exact route between a set of cities.\n",
    "It has as parameters:"
   ]
  },
  {
   "cell_type": "code",
   "execution_count": null,
   "metadata": {},
   "outputs": [],
   "source": [
    "- `inst` an object of type Instance\n",
    "- `soln` an object of type Solution\n",
    "\n",
    "See the model:"
   ]
  },
  {
   "cell_type": "markdown",
   "metadata": {},
   "source": [
    "## preliminaries"
   ]
  },
  {
   "cell_type": "markdown",
   "metadata": {},
   "source": [
    "Loads the required packages:"
   ]
  },
  {
   "cell_type": "code",
   "execution_count": 19,
   "metadata": {},
   "outputs": [],
   "source": [
    "import os\n",
    "from gurobipy import *\n",
    "from datetime import datetime"
   ]
  },
  {
   "cell_type": "markdown",
   "metadata": {},
   "source": [
    "Imports auxiliary objects:"
   ]
  },
  {
   "cell_type": "code",
   "execution_count": 24,
   "metadata": {},
   "outputs": [],
   "source": [
    "from util.classes import Instance, Solution\n",
    "from util.util import mtx_distance"
   ]
  },
  {
   "cell_type": "markdown",
   "metadata": {},
   "source": [
    "And the model..."
   ]
  },
  {
   "cell_type": "code",
   "execution_count": 25,
   "metadata": {},
   "outputs": [
    {
     "ename": "TypeError",
     "evalue": "load() missing 1 required positional argument: 'id'",
     "output_type": "error",
     "traceback": [
      "\u001b[1;31m---------------------------------------------------------------------------\u001b[0m",
      "\u001b[1;31mTypeError\u001b[0m                                 Traceback (most recent call last)",
      "\u001b[1;32m<ipython-input-25-fa6ea7e6eaa8>\u001b[0m in \u001b[0;36m<module>\u001b[1;34m()\u001b[0m\n\u001b[1;32m----> 1\u001b[1;33m \u001b[0minstance\u001b[0m \u001b[1;33m=\u001b[0m \u001b[0mInstance\u001b[0m\u001b[1;33m.\u001b[0m\u001b[0mload\u001b[0m\u001b[1;33m(\u001b[0m\u001b[1;34m\"lin105.tsp\"\u001b[0m\u001b[1;33m)\u001b[0m\u001b[1;33m\u001b[0m\u001b[0m\n\u001b[0m\u001b[0;32m      2\u001b[0m \u001b[0msoln\u001b[0m \u001b[1;33m=\u001b[0m \u001b[0mSolution\u001b[0m\u001b[1;33m(\u001b[0m\u001b[1;34m'TSP'\u001b[0m\u001b[1;33m,\u001b[0m \u001b[1;34m'MIP Solution'\u001b[0m\u001b[1;33m)\u001b[0m\u001b[1;33m\u001b[0m\u001b[0m\n\u001b[0;32m      3\u001b[0m \u001b[1;33m\u001b[0m\u001b[0m\n\u001b[0;32m      4\u001b[0m \u001b[0mn\u001b[0m \u001b[1;33m=\u001b[0m \u001b[0minstance\u001b[0m\u001b[1;33m.\u001b[0m\u001b[0mnnodes\u001b[0m  \u001b[1;31m# the number of cities in the problem.\u001b[0m\u001b[1;33m\u001b[0m\u001b[0m\n\u001b[0;32m      5\u001b[0m \u001b[0mdistance\u001b[0m \u001b[1;33m=\u001b[0m \u001b[0mmtx_distance\u001b[0m\u001b[1;33m(\u001b[0m\u001b[0minstance\u001b[0m\u001b[1;33m.\u001b[0m\u001b[0mxlng\u001b[0m\u001b[1;33m,\u001b[0m \u001b[0minstance\u001b[0m\u001b[1;33m.\u001b[0m\u001b[0mylat\u001b[0m\u001b[1;33m,\u001b[0m \u001b[0mscale\u001b[0m\u001b[1;33m=\u001b[0m\u001b[1;36m100\u001b[0m\u001b[1;33m)\u001b[0m  \u001b[1;31m# Distance btw (i,j)\u001b[0m\u001b[1;33m\u001b[0m\u001b[0m\n",
      "\u001b[1;31mTypeError\u001b[0m: load() missing 1 required positional argument: 'id'"
     ]
    }
   ],
   "source": [
    "instance = Instance.load(\"lin105.tsp\")\n",
    "soln = Solution('TSP', 'MIP Solution')\n",
    "\n",
    "n = instance.nnodes  # the number of cities in the problem.\n",
    "distance = mtx_distance(instance.xlng, instance.ylat, scale=100)  # Distance btw (i,j)\n",
    "\n",
    "print(n)\n",
    "print(distance)"
   ]
  },
  {
   "cell_type": "code",
   "execution_count": 13,
   "metadata": {},
   "outputs": [
    {
     "name": "stdout",
     "output_type": "stream",
     "text": [
      "Changed value of parameter LazyConstraints to 1\n",
      "   Prev: 0  Min: 0  Max: 1  Default: 0\n",
      "Changed value of parameter TimeLimit to 100.0\n",
      "   Prev: 1e+100  Min: 0.0  Max: 1e+100  Default: 1e+100\n",
      "Parameter LogToConsole unchanged\n",
      "   Value: 1  Min: 0  Max: 1  Default: 1\n",
      "Optimize a model with 3 rows, 0 columns and 0 nonzeros\n",
      "Coefficient statistics:\n",
      "  Matrix range     [0e+00, 0e+00]\n",
      "  Objective range  [0e+00, 0e+00]\n",
      "  Bounds range     [0e+00, 0e+00]\n",
      "  RHS range        [1e+00, 1e+00]\n",
      "Presolve time: 0.32s\n",
      "\n",
      "Solved in 0 iterations and 0.32 seconds\n",
      "Infeasible model\n",
      "[]\n"
     ]
    },
    {
     "ename": "AttributeError",
     "evalue": "b\"Unable to retrieve attribute 'objVal'\"",
     "output_type": "error",
     "traceback": [
      "\u001b[1;31m---------------------------------------------------------------------------\u001b[0m",
      "\u001b[1;31mAttributeError\u001b[0m                            Traceback (most recent call last)",
      "\u001b[1;32m<ipython-input-13-bd89780d5ad8>\u001b[0m in \u001b[0;36m<module>\u001b[1;34m()\u001b[0m\n\u001b[0;32m    179\u001b[0m     \u001b[0msoln\u001b[0m\u001b[1;33m.\u001b[0m\u001b[0mstatus\u001b[0m \u001b[1;33m=\u001b[0m \u001b[0mtsp\u001b[0m\u001b[1;33m.\u001b[0m\u001b[0mstatus\u001b[0m\u001b[1;33m\u001b[0m\u001b[0m\n\u001b[0;32m    180\u001b[0m     \u001b[0msoln\u001b[0m\u001b[1;33m.\u001b[0m\u001b[0msequence\u001b[0m \u001b[1;33m=\u001b[0m \u001b[0msequence\u001b[0m\u001b[1;33m\u001b[0m\u001b[0m\n\u001b[1;32m--> 181\u001b[1;33m     \u001b[0msoln\u001b[0m\u001b[1;33m.\u001b[0m\u001b[0mcost_total\u001b[0m \u001b[1;33m=\u001b[0m \u001b[0mtsp\u001b[0m\u001b[1;33m.\u001b[0m\u001b[0mobjVal\u001b[0m\u001b[1;33m\u001b[0m\u001b[0m\n\u001b[0m\u001b[0;32m    182\u001b[0m     \u001b[0msoln\u001b[0m\u001b[1;33m.\u001b[0m\u001b[0mruntime\u001b[0m \u001b[1;33m=\u001b[0m \u001b[0mtsp\u001b[0m\u001b[1;33m.\u001b[0m\u001b[0mruntime\u001b[0m\u001b[1;33m\u001b[0m\u001b[0m\n\u001b[0;32m    183\u001b[0m     \u001b[0msoln\u001b[0m\u001b[1;33m.\u001b[0m\u001b[0mgap\u001b[0m \u001b[1;33m=\u001b[0m \u001b[0mtsp\u001b[0m\u001b[1;33m.\u001b[0m\u001b[0mMIPGap\u001b[0m\u001b[1;33m\u001b[0m\u001b[0m\n",
      "\u001b[1;32mmodel.pxi\u001b[0m in \u001b[0;36mgurobipy.Model.__getattr__ (../../src/python/gurobipy.c:53450)\u001b[1;34m()\u001b[0m\n",
      "\u001b[1;32mmodel.pxi\u001b[0m in \u001b[0;36mgurobipy.Model.getAttr (../../src/python/gurobipy.c:68468)\u001b[1;34m()\u001b[0m\n",
      "\u001b[1;32mmodel.pxi\u001b[0m in \u001b[0;36mgurobipy.Model.__gettypedattr (../../src/python/gurobipy.c:106359)\u001b[1;34m()\u001b[0m\n",
      "\u001b[1;31mAttributeError\u001b[0m: b\"Unable to retrieve attribute 'objVal'\""
     ]
    }
   ],
   "source": [
    "# Gurobi model for the TSP\n",
    "try:\n",
    "    # Initialize the Traveling Salesman Problem Model\n",
    "    tsp = Model('TSP')\n",
    "    tsp.params.LazyConstraints = 1\n",
    "    #tsp.params.Threads = 4\n",
    "    tsp.params.TimeLimit = 100\n",
    "    # tsp.params.MIPGap = 0\n",
    "    tsp.params.LogToConsole = 1\n",
    "\n",
    "    # DECISION VARIABLES\n",
    "    # -------------------------------------------------------\n",
    "    # x[i, j] = binary variable,\n",
    "    # equals to 1 if edge (i,j) is traversed, and 0 otherwise.\n",
    "    x = {(i, j): tsp.addVar(\n",
    "        lb=0.0,\n",
    "        ub=1.0,\n",
    "        obj=0.0,\n",
    "        vtype=GRB.BINARY,\n",
    "        name='x_{}_{}'.format(i, j))\n",
    "        for i in range(n) for j in range(n)\n",
    "    }\n",
    "    # u[i, j] = integer variable, to avoid subtours.\n",
    "    u = {(i, j): tsp.addVar(\n",
    "        lb=0.0,\n",
    "        ub=GRB.INFINITY,\n",
    "        obj=0.0,\n",
    "        vtype=GRB.CONTINUOUS,\n",
    "        name='u_{}_{}'.format(i, j))\n",
    "        for i in range(n) for j in range(n)\n",
    "    }\n",
    "    tsp.update()\n",
    "\n",
    "    # Decision: 1 to include constraints, 0 otherwise\n",
    "    cstr = {'1' : 1,\n",
    "            '2' : 1,\n",
    "            '3' : 1,\n",
    "            '4' : 1,\n",
    "            '5' : 1,\n",
    "            '6' : 1,\n",
    "            '7' : 1,\n",
    "            '8' : 1}\n",
    "\n",
    "    # CONSTRAINTS 1\n",
    "    # -------------------------------------------------------\n",
    "    if cstr['1']:\n",
    "        # Ensures that the route starts at beginning customer.\n",
    "        i = 0\n",
    "        expr = LinExpr()\n",
    "        for j in range(1, n):\n",
    "            expr.addTerms(coeffs=[1.0], vars=[x[i, j]])\n",
    "\n",
    "        tsp.addConstr(expr == 1, name='cstr1_{}'.format(i))\n",
    "\n",
    "    # CONSTRAINTS 2\n",
    "    # -------------------------------------------------------\n",
    "    if cstr['2']:\n",
    "        # Ensures that the route ends at beginning customer.\n",
    "        j = 0\n",
    "        expr = LinExpr()\n",
    "        for i in range(1, n):\n",
    "            expr.addTerms(coeffs=[1.0], vars=[x[i, j]])\n",
    "\n",
    "        tsp.addConstr(expr == 1, name='cstr2_{}'.format(j))\n",
    "\n",
    "    # CONSTRAINTS 3\n",
    "    # ---------------------------------------------------\n",
    "    if cstr['3']:\n",
    "        # Ensures that customer 'j' is visited.\n",
    "        for j in range(1, n):\n",
    "            expr = LinExpr()\n",
    "            for i in range(n):\n",
    "                if i != j:\n",
    "                    expr.addTerms(coeffs=[1.0], vars=[x[i, j]])\n",
    "\n",
    "            tsp.addConstr(expr == 1, name='cstr3_{}'.format(j))\n",
    "\n",
    "    # CONSTRAINTS 4\n",
    "    # ---------------------------------------------------\n",
    "    if cstr['4']:\n",
    "        # Ensures that route exits customer 'j'.\n",
    "        for i in range(1, n):\n",
    "            expr = LinExpr()\n",
    "            for j in range(n):\n",
    "                if i != j:\n",
    "                    expr.addTerms(coeffs=[1.0], vars=[x[i, j]])\n",
    "\n",
    "            tsp.addConstr(expr == 1, name='cstr4_{}'.format(i))\n",
    "\n",
    "    # CONSTRAINTS 5\n",
    "    # ---------------------------------------------------\n",
    "    if cstr['5']:\n",
    "        # Eliminate subtours.\n",
    "        for i in range(n):\n",
    "            for j in range(n):\n",
    "                expr = LinExpr()\n",
    "                expr.addTerms(coeffs=[1.0, -(n - 1)], \n",
    "                              vars=[u[i, j], x[i, j]])\n",
    "                tsp.addConstr(expr <= 0, name='cstr(5)_{}_{}'.format(i, j))\n",
    "\n",
    "    # CONSTRAINTS 6\n",
    "    # ---------------------------------------------------\n",
    "    if cstr['6']:\n",
    "        # Ensure s that ...\n",
    "        i = 0\n",
    "        expr = LinExpr()\n",
    "        for j in range(1, n):\n",
    "            expr.addTerms(coeffs=[1.0], vars=[u[i, j]])\n",
    "\n",
    "        tsp.addConstr(expr == n - 1, name='cstr6_{}'.format(i))\n",
    "\n",
    "    # CONSTRAINTS 7\n",
    "    # ---------------------------------------------------\n",
    "    if cstr['7']:\n",
    "        # Ensures that ...\n",
    "        for j in range(1, n):\n",
    "            expr = LinExpr()\n",
    "            for i in range(n):\n",
    "                if i != j:\n",
    "                    expr.addTerms(coeffs=[1.0, -1.0],\n",
    "                                  vars=[u[i, j], u[j, i]])\n",
    "\n",
    "            tsp.addConstr(expr == 1, name='cstr7_{}'.format(j))\n",
    "\n",
    "    # CONSTRAINTS 8\n",
    "    # ---------------------------------------------------\n",
    "    if cstr['8']:\n",
    "        # Ensures that ...\n",
    "        for j in range(n):\n",
    "            expr = LinExpr()\n",
    "            expr.addTerms(coeffs=[1.0], vars=[x[j, j]])\n",
    "            tsp.addConstr(expr <= 0, name='cstr8_{}'.format(j))\n",
    "\n",
    "    tsp.update()\n",
    "\n",
    "    # OBJECTIVE FUNCTION\n",
    "    # -----------------------------------------------\n",
    "    # Minimize the traveling costs for visiting each city.\n",
    "    expr = LinExpr()\n",
    "    for i in range(n):\n",
    "        for j in range(n):\n",
    "            # add open cost\n",
    "            expr.addTerms(coeffs=distance[i][j], vars=x[i, j])\n",
    "\n",
    "    tsp.setObjective(expr, sense=GRB.MINIMIZE)\n",
    "    tsp.update()\n",
    "\n",
    "    # Write the '.lp' model file\n",
    "    path = os.path.abspath(r'./util/{date}_{id}_{name}.lp'.format(\n",
    "        date=datetime.now().strftime('%Y%m%d_%H%M%S'),\n",
    "        id=instance.id,\n",
    "        name=instance.name))\n",
    "    tsp.write(path)\n",
    "\n",
    "    # Optimize model\n",
    "    tsp.optimize()\n",
    "\n",
    "    # Save problem's solution\n",
    "    # -----------------------\n",
    "    # build the TSP sequence route.\n",
    "    sequence = []\n",
    "    j0 = 0\n",
    "    while len(sequence) < n:\n",
    "        sequence.append(j0)\n",
    "        for j1 in range(n):\n",
    "            if int(x[j0, j1].x + 0.1) == 1:\n",
    "                j0 = j1\n",
    "                #sequence.append(j1)\n",
    "                break\n",
    "        # if len(sequence) == n:\n",
    "        #     sequence.append(sequence[0])\n",
    "    print(sequence)\n",
    "    soln.status = tsp.status\n",
    "    soln.sequence = sequence\n",
    "    soln.cost_total = tsp.objVal\n",
    "    soln.runtime = tsp.runtime\n",
    "    soln.gap = tsp.MIPGap\n",
    "\n",
    "\n",
    "except GurobiError:\n",
    "    raise Exception('Error reported at Traveling Salesman Problem')"
   ]
  },
  {
   "cell_type": "markdown",
   "metadata": {},
   "source": [
    "Running the model:"
   ]
  },
  {
   "cell_type": "code",
   "execution_count": 9,
   "metadata": {},
   "outputs": [
    {
     "ename": "AttributeError",
     "evalue": "type object 'Instance' has no attribute 'nnodes'",
     "output_type": "error",
     "traceback": [
      "\u001b[1;31m---------------------------------------------------------------------------\u001b[0m",
      "\u001b[1;31mAttributeError\u001b[0m                            Traceback (most recent call last)",
      "\u001b[1;32m<ipython-input-9-8d9d04ca7922>\u001b[0m in \u001b[0;36m<module>\u001b[1;34m()\u001b[0m\n\u001b[1;32m----> 1\u001b[1;33m \u001b[0mmip_tsp\u001b[0m\u001b[1;33m(\u001b[0m\u001b[0mInstance\u001b[0m\u001b[1;33m)\u001b[0m\u001b[1;33m\u001b[0m\u001b[0m\n\u001b[0m",
      "\u001b[1;32m<ipython-input-8-4e374f0f04d7>\u001b[0m in \u001b[0;36mmip_tsp\u001b[1;34m(instance)\u001b[0m\n\u001b[0;32m     13\u001b[0m     \"\"\"\n\u001b[0;32m     14\u001b[0m \u001b[1;33m\u001b[0m\u001b[0m\n\u001b[1;32m---> 15\u001b[1;33m     \u001b[0mn\u001b[0m \u001b[1;33m=\u001b[0m \u001b[0minstance\u001b[0m\u001b[1;33m.\u001b[0m\u001b[0mnnodes\u001b[0m  \u001b[1;31m# the number of cities in the problem.\u001b[0m\u001b[1;33m\u001b[0m\u001b[0m\n\u001b[0m\u001b[0;32m     16\u001b[0m     \u001b[0mdistance\u001b[0m \u001b[1;33m=\u001b[0m \u001b[0mmtx_distance\u001b[0m\u001b[1;33m(\u001b[0m\u001b[0minstance\u001b[0m\u001b[1;33m.\u001b[0m\u001b[0mxlng\u001b[0m\u001b[1;33m,\u001b[0m \u001b[0minstance\u001b[0m\u001b[1;33m.\u001b[0m\u001b[0mylat\u001b[0m\u001b[1;33m,\u001b[0m \u001b[0mscale\u001b[0m\u001b[1;33m=\u001b[0m\u001b[1;36m100\u001b[0m\u001b[1;33m)\u001b[0m  \u001b[1;31m# Distance btw (i,j)\u001b[0m\u001b[1;33m\u001b[0m\u001b[0m\n\u001b[0;32m     17\u001b[0m \u001b[1;33m\u001b[0m\u001b[0m\n",
      "\u001b[1;31mAttributeError\u001b[0m: type object 'Instance' has no attribute 'nnodes'"
     ]
    }
   ],
   "source": [
    "mip_tsp(Instance)"
   ]
  }
 ],
 "metadata": {
  "kernelspec": {
   "display_name": "Python 3",
   "language": "python",
   "name": "python3"
  },
  "language_info": {
   "codemirror_mode": {
    "name": "ipython",
    "version": 3
   },
   "file_extension": ".py",
   "mimetype": "text/x-python",
   "name": "python",
   "nbconvert_exporter": "python",
   "pygments_lexer": "ipython3",
   "version": "3.6.5"
  }
 },
 "nbformat": 4,
 "nbformat_minor": 2
}
