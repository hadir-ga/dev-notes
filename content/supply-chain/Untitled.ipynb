{
 "cells": [
  {
   "cell_type": "raw",
   "metadata": {},
   "source": [
    "---\n",
    "title: \"CPRF\"\n",
    "author: \"Hadir Garcia-Castro\"\n",
    "date: 2018-11-18T12:15:24.736\n",
    "type: technical-note\n",
    "draft: false\n",
    "---"
   ]
  },
  {
   "cell_type": "markdown",
   "metadata": {},
   "source": [
    "# CPRF - Collaborative Planning, Forecasting, and Replenishment"
   ]
  },
  {
   "cell_type": "markdown",
   "metadata": {},
   "source": [
    "## What is CPFR?\n",
    "## Why to use CPFR?\n",
    "## Where to use CPFR?\n",
    "## When to use CPFR?\n",
    "## Who may us CPFR?\n",
    "## How to use?\n",
    "## How much?"
   ]
  }
 ],
 "metadata": {
  "kernelspec": {
   "display_name": "Julia 1.0.1",
   "language": "julia",
   "name": "julia-1.0"
  },
  "language_info": {
   "file_extension": ".jl",
   "mimetype": "application/julia",
   "name": "julia",
   "version": "1.0.1"
  }
 },
 "nbformat": 4,
 "nbformat_minor": 2
}
