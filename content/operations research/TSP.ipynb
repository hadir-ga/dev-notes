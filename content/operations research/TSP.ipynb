{
 "cells": [
  {
   "cell_type": "raw",
   "metadata": {},
   "source": [
    "---\n",
    "title: \"The Travel Salesman Problem (TSP)\"\n",
    "author: \"Hadir Garcia-Castro\"\n",
    "date: 2018-10-22T16:32:58.713\n",
    "description: \"Math formulation and algorithms to solve the TSP.\"\n",
    "type: technical_note\n",
    "draft: true\n",
    "---"
   ]
  },
  {
   "cell_type": "markdown",
   "metadata": {},
   "source": [
    "There are two versions of the TSP math formulation based in MIP, the Simetric and asimetric."
   ]
  }
 ],
 "metadata": {
  "kernelspec": {
   "display_name": "Julia 1.0.1",
   "language": "julia",
   "name": "julia-1.0"
  },
  "language_info": {
   "file_extension": ".jl",
   "mimetype": "application/julia",
   "name": "julia",
   "version": "1.0.1"
  }
 },
 "nbformat": 4,
 "nbformat_minor": 2
}
