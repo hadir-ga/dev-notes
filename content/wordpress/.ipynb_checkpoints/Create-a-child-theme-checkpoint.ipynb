{
 "cells": [
  {
   "cell_type": "raw",
   "metadata": {},
   "source": [
    "---\n",
    "title: \"Create a child theme\"\n",
    "date: 2018-11-15T13:34:00.518\n",
    "author: \"Hadir Garcia-Castro\"\n",
    "type: technical-note\n",
    "draft: false\n",
    "---"
   ]
  },
  {
   "cell_type": "markdown",
   "metadata": {},
   "source": [
    "# Create a child theme\n",
    "\n",
    "To create a child them on Wordpress do the following steps:"
   ]
  },
  {
   "cell_type": "markdown",
   "metadata": {},
   "source": [
    "## Step 1\n",
    "Open you server directory via FTP, find you domine and into the `wp-content` folder find the `themes`folder."
   ]
  },
  {
   "cell_type": "markdown",
   "metadata": {},
   "source": [
    "## Step 2\n",
    "Into the `themes` folder, create a new folder and name it as `child-theme`."
   ]
  },
  {
   "cell_type": "markdown",
   "metadata": {},
   "source": [
    "## Step 3\n",
    "Create two files, a `style.css` file and a `functions.php` file, and write the following lines into them."
   ]
  },
  {
   "cell_type": "markdown",
   "metadata": {},
   "source": [
    "`# style.css`\n",
    "\n",
    "``` css\n",
    "/*\n",
    "Theme Name: theme-child\n",
    "Theme URI: https://dev.hadir.ga/\n",
    "Description: This is a custom child theme I have created.\n",
    "Author: Author's Name\n",
    "URI: https://www.hadir.ga/\n",
    "Template: parent-theme\n",
    "Version: 0.1\n",
    "*/\n",
    "```"
   ]
  },
  {
   "cell_type": "markdown",
   "metadata": {},
   "source": [
    "`functions.php`\n",
    "``` php\n",
    "<?php\n",
    "if ( !defined( 'ABSPATH' ) ) exit;\n",
    "\n",
    "if ( !function_exists( 'hadirga_child_parent_css' ) ):\n",
    "    function theme_child_parent_css() {\n",
    "        wp_enqueue_style( 'hadirga_child_parent', trailingslashit( get_template_directory_uri() ) . 'style.css', array( 'bootstrap' ) );\n",
    "\tif( is_rtl() ) {\n",
    "\t\twp_enqueue_style( 'hadirga_child_parent_rtl', trailingslashit( get_template_directory_uri() ) . 'style-rtl.css', array( 'bootstrap' ) );\n",
    "\t}\n",
    "\n",
    "    }\n",
    "endif;\n",
    "add_action( 'wp_enqueue_scripts', 'hadirga_child_parent_css', 10 );\n",
    "\n",
    "/**\n",
    " * Import options from hadirga\n",
    " *\n",
    " * @since 1.0.0\n",
    " */\n",
    "function hadirga_child_get_lite_options() {\n",
    "\t$hadirga_mods = get_option( 'theme_mods_hadirga' );\n",
    "\tif ( ! empty( $hadirga_mods ) ) {\n",
    "\t\tforeach ( $hadirga_mods as $hadirga_mod_k => $hadirga_mod_v ) {\n",
    "\t\t\tset_theme_mod( $hadirga_mod_k, $hadirga_mod_v );\n",
    "\t\t}\n",
    "\t}\n",
    "}\n",
    "add_action( 'after_switch_theme', 'hadirga_child_get_lite_options' );\n",
    "\n",
    "```"
   ]
  },
  {
   "cell_type": "markdown",
   "metadata": {},
   "source": [
    "Finaly, if you want to have a custom screenshot image for your child theme, then add it to the folder with the name `screenshot.png`."
   ]
  }
 ],
 "metadata": {
  "kernelspec": {
   "display_name": "Julia 1.0.1",
   "language": "julia",
   "name": "julia-1.0"
  },
  "language_info": {
   "file_extension": ".jl",
   "mimetype": "application/julia",
   "name": "julia",
   "version": "1.0.1"
  }
 },
 "nbformat": 4,
 "nbformat_minor": 2
}
