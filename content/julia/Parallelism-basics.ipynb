{
 "cells": [
  {
   "cell_type": "raw",
   "metadata": {},
   "source": [
    "---\n",
    "title: \"Parallelism-basics\"\n",
    "author: \"Hadir Garcia-Castro\"\n",
    "date: 22018-11-12T16:24:01.176\n",
    "type: technical-note\n",
    "draft: false\n",
    "---"
   ]
  },
  {
   "cell_type": "markdown",
   "metadata": {},
   "source": [
    "# Basic concepts in parallelism with Julia"
   ]
  },
  {
   "cell_type": "markdown",
   "metadata": {},
   "source": [
    "## Julia coroutines\n",
    "- Commonly known as symetric coroutines, lightweight threads, cooperative multitasking, or one-shot continuations.\n",
    "\n",
    "- Julia executes scheduled tasks, can stop a task, executes a new one and then, after finish it, resumes the former one.\n",
    "\n",
    "- First-in first-out queue concept."
   ]
  },
  {
   "cell_type": "markdown",
   "metadata": {},
   "source": [
    "### Chanels"
   ]
  },
  {
   "cell_type": "code",
   "execution_count": null,
   "metadata": {},
   "outputs": [],
   "source": [
    "const jobs = Channel{Int}(32);\n",
    "jobs"
   ]
  },
  {
   "cell_type": "code",
   "execution_count": null,
   "metadata": {},
   "outputs": [],
   "source": [
    "const results = Channel{Tuple}(32);\n",
    "\n",
    "function do_work()\n",
    "   for job_id in jobs\n",
    "       exec_time = rand()\n",
    "       sleep(exec_time)                # simulates elapsed time doing actual work\n",
    "                                       # typically performed externally.\n",
    "       put!(results, (job_id, exec_time))\n",
    "   end\n",
    "end;\n",
    "\n",
    "function make_jobs(n)\n",
    "   for i in 1:n\n",
    "       put!(jobs, i)\n",
    "   end\n",
    "end;\n",
    "\n",
    "n = 12;\n",
    "\n",
    "@async make_jobs(n); # feed the jobs channel with \"n\" jobs\n",
    "\n",
    "for i in 1:4 # start 4 tasks to process requests in parallel\n",
    "   @async do_work()\n",
    "end\n",
    "\n",
    "@elapsed while n > 0 # print out results\n",
    "   job_id, exec_time = take!(results)\n",
    "   println(\"$job_id finished in $(round(exec_time; digits=2)) seconds\")\n",
    "   global n = n - 1\n",
    "end"
   ]
  },
  {
   "cell_type": "markdown",
   "metadata": {},
   "source": [
    "## Multi-threading\n",
    "\n",
    "## Multi-core or distributed processing"
   ]
  },
  {
   "cell_type": "markdown",
   "metadata": {},
   "source": [
    "Example:"
   ]
  },
  {
   "cell_type": "code",
   "execution_count": 4,
   "metadata": {},
   "outputs": [
    {
     "ename": "UndefVarError",
     "evalue": "UndefVarError: remotecall not defined",
     "output_type": "error",
     "traceback": [
      "UndefVarError: remotecall not defined",
      "",
      "Stacktrace:",
      " [1] top-level scope at In[4]:1"
     ]
    }
   ],
   "source": [
    "task = remotecall(2,rand,2,2)"
   ]
  },
  {
   "cell_type": "markdown",
   "metadata": {},
   "source": [
    "# References\n",
    "- [Julia Documentation](https://docs.julialang.org/en/v1/manual/parallel-computing/index.html). Accesed on Nov 12th, 2018"
   ]
  }
 ],
 "metadata": {
  "kernelspec": {
   "display_name": "Julia 1.0.1",
   "language": "julia",
   "name": "julia-1.0"
  },
  "language_info": {
   "file_extension": ".jl",
   "mimetype": "application/julia",
   "name": "julia",
   "version": "1.0.1"
  }
 },
 "nbformat": 4,
 "nbformat_minor": 2
}
