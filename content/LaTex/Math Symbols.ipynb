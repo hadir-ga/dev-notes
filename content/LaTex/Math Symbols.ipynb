{
 "cells": [
  {
   "cell_type": "raw",
   "metadata": {},
   "source": [
    "---\n",
    "title: \"Math Symbols\"\n",
    "author: \"Hadir Garcia-Castro\"\n",
    "date: 2018-11-11T11:00:00-07:00\n",
    "description: \"All the math symbols in LaTex\"\n",
    "type: technical_note\n",
    "draft: false\n",
    "---"
   ]
  },
  {
   "cell_type": "markdown",
   "metadata": {},
   "source": [
    "# Math Symbols in LaTeX"
   ]
  },
  {
   "cell_type": "markdown",
   "metadata": {},
   "source": [
    "To write math symbols and characteres in LaTeX:\n",
    "- use `$ ... $` for inline entries.\n",
    "- use `$$ ... $$` for centralized block entries."
   ]
  },
  {
   "cell_type": "markdown",
   "metadata": {},
   "source": [
    "#  Alphabet Characters\n",
    "Type|LaTeX Code|Text Result\n",
    "----|----------|-----------\n",
    "Normal uppercase|`$ABCDEFGHIJ$`|$ABCDEFGH$\n",
    "Normal lowercase|`$abcdefghij$`|$abcdefghij$\n",
    "Numbers|`$0123456789$`|$0123456789$\n",
    "Mathcal uppercase|`$\\mathcal{ABCDEFGHIJ}$`|$\\mathcal{ABCDEFGHIJ}$\n",
    "Mathcal lowercase|`$\\mathcal{abcdefghij}$`|$\\mathcal{abcdefghij}$\n",
    "Mathcal Numbers  |`$\\mathcal{0123456789}$`|$\\mathcal{0123456789}$"
   ]
  },
  {
   "cell_type": "markdown",
   "metadata": {},
   "source": [
    "## Greek Alphabet\n",
    "Name|LaTeX Code|Text Result\n",
    "----|----------|-----------\n",
    "Alpha|`$A$ $\\alpha$`|$A$ $\\alpha$\n",
    "Beta|`$B$ $\\beta$`|$B$ $\\beta$\n",
    "Gamma|`$\\Gamma$ $\\gamma$`|$\\Gamma$ $\\gamma$\n",
    "Delta|`$\\Delta$ $\\delta$`|$\\Delta$ $\\delta$\n",
    "Epsilon|`$E$ $\\epsilon$`|$E$ $\\epsilon$\n",
    "Zeta|`$Z$ $\\zeta$`|$Z$ $\\zeta$\n",
    "Eta|`$E$ $\\eta$`|$E$ $\\eta$\n",
    "Theta|`$\\Theta$ $\\theta$`|$\\Theta$ $\\theta$\n",
    "Iota|`$I$ $\\iota$`|$I$ $\\iota$\n",
    "Kappa|`$K$ $\\kappa$`|$K$ $\\kappa$\n",
    "Lambda|`$\\Lambda$ $\\lambda$`|$\\Lambda$ $\\lambda$\n",
    "Mu|`$M$ $\\mu$`|$M$ $\\mu$\n",
    "Nu|`$N$ $\\nu$`|$N$ $\\nu$\n",
    "Xi|`$\\Xi$ $\\xi$`|$\\Xi$ $\\xi$\n",
    "Omicron|`$O$ $\\omicron$`|$O$ $\\omicron$\n",
    "Pi|`$\\Pi$ $\\pi$`|$\\Pi$ $\\pi$\n",
    "Rho|`$P$ $\\rho$`|$P$ $\\rho$\n",
    "Sigma|`$\\Sigma$ $\\sigma$`|$\\Sigma$ $\\sigma$\n",
    "Tau|`$T$ $\\tau$`|$T$ $\\tau$\n",
    "Upsilon|`$\\Upsilon$ $\\upsilon$`|$\\Upsilon$ $\\upsilon$\n",
    "Phi|`$Phi$ $\\phi$`|$Phi$ $\\phi$\n",
    "Chi|`$X$ $\\chi$`|$X$ $\\chi$\n",
    "Psi|`$\\Psi$ $\\psi$`|$\\Psi$ $\\psi$\n",
    "Omega|`$\\Omega$ $\\omega$`|$\\Omega$ $\\omega$"
   ]
  },
  {
   "cell_type": "markdown",
   "metadata": {},
   "source": [
    "## Comparison\n",
    "Name|LaTeX Code|Text Result\n",
    "----|----------|-----------\n",
    "Greater than|`$>$`|$>$\n",
    "Greater than or equal|`$\\geq$`|$\\geq$\n",
    "Less than|`$<$`|$<$\n",
    "Less than or equal|`$\\leq$`|$\\leq$\n"
   ]
  },
  {
   "cell_type": "markdown",
   "metadata": {},
   "source": [
    "## Others\n",
    "Name|LaTeX Code|Text Result\n",
    "----|----------|-----------\n",
    "Cardinality|`$\\|A\\vert$`|$|A\\vert$\n",
    "Absolute value|`$\\|a\\vert$`|$|a\\vert$\n",
    "Parenthesis|`$(x)$`|$(x)$\n",
    "Brackets|`$[y]$`|$[y]$\n",
    "Braces|`$\\{z\\}$`|$\\{z\\}$"
   ]
  },
  {
   "cell_type": "markdown",
   "metadata": {},
   "source": [
    "## Operators\n",
    "Name|LaTeX Code|Text Result\n",
    "----|----------|-----------\n",
    "Sum|`$+$`|$+$\n",
    "Summatory|`$\\sum{x}$`|$\\sum{x}$\n",
    "Product|`$a\\cdot b$`|$a\\cdot b$\n",
    "Product|`$a\\times b$`|$a\\times b$"
   ]
  }
 ],
 "metadata": {
  "kernelspec": {
   "display_name": "Julia 1.0.1",
   "language": "julia",
   "name": "julia-1.0"
  },
  "language_info": {
   "file_extension": ".jl",
   "mimetype": "application/julia",
   "name": "julia",
   "version": "1.0.1"
  }
 },
 "nbformat": 4,
 "nbformat_minor": 2
}
