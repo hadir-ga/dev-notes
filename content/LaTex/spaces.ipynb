{
 "cells": [
  {
   "cell_type": "raw",
   "metadata": {},
   "source": [
    "---\n",
    "title: \"Spaces in LaTeX\"\n",
    "author: \"Hadir Garcia-Castro\"\n",
    "date: 2018-11-19T22:37:49.482\n",
    "description: \"All the spaces in LaTex\"\n",
    "type: technical_note\n",
    "draft: false\n",
    "---"
   ]
  },
  {
   "cell_type": "markdown",
   "metadata": {},
   "source": [
    "# Spaces in LaTeX"
   ]
  },
  {
   "cell_type": "markdown",
   "metadata": {},
   "source": [
    "## Horizontal Spaces\n",
    "Name     | Code                          | Result\n",
    ":---     | :---                          | :---\n",
    "No Space | `$ab$`                        | $ab$\n",
    "Thin     | `$a\\thinspace b$`             | $a\\thinspace b$\n",
    "         | `$a\\ b$`                      | $a\\ b$\n",
    "         | `$a\\,b$`                      | $a\\,b$\n",
    "         | `$a\\space b$`                 | $a\\space b$\n",
    "En       | `$a\\enspace b$`               | $a\\enspace b$\n",
    "Quad     | `$a\\quad b$`                  | $a\\quad b$\n",
    "Qquad    | `$a\\qquad b$`                 | $a\\qquad b$\n",
    "hskip    | `$a\\hskip 1em b$`             | $a\\hskip 10em b$\n",
    "hspace   | `$a\\hspace{35pt}b$`           | $a\\hspace{35pt}b$\n"
   ]
  }
 ],
 "metadata": {
  "kernelspec": {
   "display_name": "Julia 1.0.1",
   "language": "julia",
   "name": "julia-1.0"
  },
  "language_info": {
   "file_extension": ".jl",
   "mimetype": "application/julia",
   "name": "julia",
   "version": "1.0.1"
  }
 },
 "nbformat": 4,
 "nbformat_minor": 2
}
