{
 "cells": [
  {
   "cell_type": "raw",
   "metadata": {},
   "source": [
    "---\n",
    "title: \"Change site URL\"\n",
    "date: 2018-11-06T18:25:48.97\n",
    "author: \"Hadir Garcia-Castro\"\n",
    "type: technical-note\n",
    "draft: false\n",
    "---"
   ]
  },
  {
   "cell_type": "markdown",
   "metadata": {},
   "source": [
    "# Change site URL\n",
    "\n",
    "## If the fields are disabled\n",
    "\n",
    "To change the WordPress home address or Site URL, however the fields are disable to be edited. Then find the wp-config.php file via FTP and open up it. Look for the `WP_HOME` or `WP_SITEURL` fields and erase them to enable the files in the WP panel again.\n",
    "If they (the fileds) do not exist and you want to disable them, then write the following lines at the end of the file:\n",
    "\n",
    "``` php\n",
    "/** WP Home Address **/\n",
    "define('WP_HOME','http://example.com');\n",
    "define('WP_SITEURL','http://example.com');\n",
    "```"
   ]
  }
 ],
 "metadata": {
  "kernelspec": {
   "display_name": "Julia 1.0.1",
   "language": "julia",
   "name": "julia-1.0"
  },
  "language_info": {
   "file_extension": ".jl",
   "mimetype": "application/julia",
   "name": "julia",
   "version": "1.0.1"
  }
 },
 "nbformat": 4,
 "nbformat_minor": 2
}
