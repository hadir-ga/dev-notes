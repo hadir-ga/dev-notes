{
 "cells": [
  {
   "cell_type": "raw",
   "metadata": {},
   "source": [
    "---\n",
    "title: \"Solving the ERR_TOO_MANY_REDIRECTS error\"\n",
    "date: 2018-11-06T18:30:48.97\n",
    "author: \"Hadir Garcia-Castro\"\n",
    "type: technical-note\n",
    "draft: false\n",
    "---"
   ]
  },
  {
   "cell_type": "markdown",
   "metadata": {},
   "source": [
    "# Solving the `ERR_TOO_MANY_REDIRECTS` error\n",
    "\n",
    "A kind of `ERR_TOO_MANY_REDIRECTS` error is when we try to acces the `wp-admin` page.\n",
    "\n",
    "After trying to change the site address using the popular internet solution, add a couple of line into the `wp-config.php` file:\n",
    "\n",
    "``` php\n",
    "/** WP Home Address **/\n",
    "define('WP_HOME','http://example.com');\n",
    "define('WP_SITEURL','http://example.com');\n",
    "```\n",
    "\n",
    "Those lines of code do not work correctly and the solution is to change the address fields directly from database. Follow the steps:\n",
    "\n",
    "1. Access the cPanel\n",
    "2. Access the phpMyAdmin\n",
    "3. Select the database of you website\n",
    "4. Select the options table\n",
    "5. Modify the fields `home` and `siteurl` with the correct address.\n",
    "\n",
    "After that, your website will be working again."
   ]
  }
 ],
 "metadata": {
  "kernelspec": {
   "display_name": "Julia 1.0.1",
   "language": "julia",
   "name": "julia-1.0"
  },
  "language_info": {
   "file_extension": ".jl",
   "mimetype": "application/julia",
   "name": "julia",
   "version": "1.0.1"
  }
 },
 "nbformat": 4,
 "nbformat_minor": 2
}
