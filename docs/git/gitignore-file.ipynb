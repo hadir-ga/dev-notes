{
 "cells": [
  {
   "cell_type": "raw",
   "metadata": {},
   "source": [
    "---\n",
    "title: The .gitignore file\n",
    "date: 2018-10-31T22:36:29.479\n",
    "draft: true\n",
    "author: \"Hadir Garcia-Castro\"\n",
    "---"
   ]
  },
  {
   "cell_type": "markdown",
   "metadata": {},
   "source": [
    "# The .gitignore file"
   ]
  },
  {
   "cell_type": "markdown",
   "metadata": {},
   "source": [
    "This file allows to ignore/untrack the specified files and folders. To creates a `.gitignore` file, open you prefered text editor and saves a new file with the name `.gitignore` into the folder to be tracked by Git.\n",
    "\n",
    "To ignoring files/folders, do write the following comands in the `.gitignore` file previously created:"
   ]
  },
  {
   "cell_type": "markdown",
   "metadata": {},
   "source": [
    "## Ignoring a folder\n",
    "\n",
    "Starts the line writing `*` followed by `/` and then the name of the folder to be ignored. All the files into that folder will be untraked by the version control manager.\n",
    "\n",
    "Example:\n",
    "\n",
    "```cmd\n",
    "# Untraked Folders\n",
    "*/foo\n",
    "*/bar\n",
    "*/untracked\n",
    "```"
   ]
  },
  {
   "cell_type": "markdown",
   "metadata": {},
   "source": [
    "## Ignoring a file\n",
    "\n",
    "[to be doing]"
   ]
  }
 ],
 "metadata": {
  "kernelspec": {
   "display_name": "Python 3",
   "language": "python",
   "name": "python3"
  },
  "language_info": {
   "codemirror_mode": {
    "name": "ipython",
    "version": 3
   },
   "file_extension": ".py",
   "mimetype": "text/x-python",
   "name": "python",
   "nbconvert_exporter": "python",
   "pygments_lexer": "ipython3",
   "version": "3.6.5"
  }
 },
 "nbformat": 4,
 "nbformat_minor": 2
}
